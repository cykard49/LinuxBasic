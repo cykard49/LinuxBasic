{
 "cells": [
  {
   "cell_type": "code",
   "execution_count": null,
   "id": "04be755d",
   "metadata": {},
   "outputs": [],
   "source": [
    "-l, --local_exec = execute profile on local machine\n",
    "-p, --pod_exec = execute profile on container\n",
    "-s, --namespace, NAMESPACE = namespace of pod\n",
    "-n, --pod_name, PODNAME = name of pod\n",
    "-g, --gen, PROFILENAME = generates barebones profile\n",
    "-b, --bulk_pods PROFILENAME= detect all running containers and runprofiles on them\n",
    "-h, --help = prints help"
   ]
  },
  {
   "cell_type": "code",
   "execution_count": null,
   "id": "02c26773",
   "metadata": {},
   "outputs": [],
   "source": [
    "./ means the current directory\n",
    "/ is the root mount point\n",
    "~/ is the user's home directory."
   ]
  }
 ],
 "metadata": {
  "kernelspec": {
   "display_name": "Python 3 (ipykernel)",
   "language": "python",
   "name": "python3"
  },
  "language_info": {
   "codemirror_mode": {
    "name": "ipython",
    "version": 3
   },
   "file_extension": ".py",
   "mimetype": "text/x-python",
   "name": "python",
   "nbconvert_exporter": "python",
   "pygments_lexer": "ipython3",
   "version": "3.9.13"
  }
 },
 "nbformat": 4,
 "nbformat_minor": 5
}
